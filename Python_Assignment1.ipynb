{
 "cells": [
  {
   "cell_type": "markdown",
   "id": "daf466d6-205a-4e11-bec4-9b86c924a6dd",
   "metadata": {},
   "source": [
    "Q1. Create one variable containing following type of data:\n",
    "(i) string\n",
    "(ii) list\n",
    "(iii) float\n",
    "(iv) tuple"
   ]
  },
  {
   "cell_type": "code",
   "execution_count": null,
   "id": "4f9b4da2",
   "metadata": {},
   "outputs": [],
   "source": [
    "(i) String"
   ]
  },
  {
   "cell_type": "code",
   "execution_count": 1,
   "id": "80220f99-6691-42f3-8b2b-012a52ba7c28",
   "metadata": {},
   "outputs": [],
   "source": [
    "s=\"Prathamesh\""
   ]
  },
  {
   "cell_type": "raw",
   "id": "017fbf78-b800-4f5b-940e-2c19fab5745e",
   "metadata": {},
   "source": [
    "(ii) list"
   ]
  },
  {
   "cell_type": "code",
   "execution_count": 2,
   "id": "f591111c-a052-4b28-bce7-e05fbb4f7859",
   "metadata": {},
   "outputs": [],
   "source": [
    "r=[4,\"Prathamesh\",3.2]"
   ]
  },
  {
   "cell_type": "raw",
   "id": "d08d9f60-8777-4299-91ed-2e124fe7406a",
   "metadata": {},
   "source": [
    "(iii) float"
   ]
  },
  {
   "cell_type": "code",
   "execution_count": 3,
   "id": "0de104fd-6ba5-4b89-b6ae-fa9451862cc9",
   "metadata": {},
   "outputs": [],
   "source": [
    "k=8.42"
   ]
  },
  {
   "cell_type": "raw",
   "id": "6c3155cc-db95-4c8f-a658-f5a79d4255a8",
   "metadata": {},
   "source": [
    "(iv) tuple"
   ]
  },
  {
   "cell_type": "code",
   "execution_count": 6,
   "id": "98b46354-b2e8-4c87-8f7b-41153f4f4981",
   "metadata": {},
   "outputs": [],
   "source": [
    "t=(\"raj\",\"saurabh\")"
   ]
  },
  {
   "cell_type": "markdown",
   "id": "b38c3b55-bb6e-4628-b517-932b01688648",
   "metadata": {},
   "source": [
    "Q2. Given are some following variables containing data:\n",
    "ans- \n",
    "var1 is a string.\n",
    "var2 is a string.\n",
    "var3 is a list.\n",
    "var4 is a float."
   ]
  },
  {
   "cell_type": "markdown",
   "id": "a95a0612-72b9-49f6-83c4-0b458c8c8ebe",
   "metadata": {},
   "source": [
    "Q3. Explain the use of the following operators using an example:\n",
    "(i) /\n",
    "(ii) %\n",
    "(iii) //\n",
    "(iv) **"
   ]
  },
  {
   "cell_type": "code",
   "execution_count": null,
   "id": "b55b2e50",
   "metadata": {},
   "outputs": [],
   "source": [
    "#(i) /: This operator is the division operator in Python. It is used to divide one number by another.\n",
    "# Example of /\n",
    "result = 10 / 3\n",
    "print(result)  # Output will be 3.333333333333333\n",
    "\n",
    "#(ii) %: This is the modulo operator, which returns the remainder of the division of the first operand by the second.\n",
    "# Example of %\n",
    "remainder = 10 % 3\n",
    "print(remainder)  # Output will be 1\n",
    "\n",
    "#(iii) //: This is the floor division operator, which performs division and rounds down to the nearest whole number.\n",
    "# Example of //\n",
    "result = 10 // 3\n",
    "print(result)  # Output will be 3\n",
    "\n",
    "#(iv) **: This is the exponentiation operator, used to raise the first operand to the power of the second operand.\n",
    "# Example of **\n",
    "result = 2 ** 3\n",
    "print(result)  # Output will be 8"
   ]
  },
  {
   "cell_type": "markdown",
   "id": "4634ad98-8332-4a2e-be53-4e1a51fb7e87",
   "metadata": {},
   "source": [
    "Q4. Create a list of length 10 of your choice containing multiple types of data. Using for loop print the\n",
    "element and its data type.\n"
   ]
  },
  {
   "cell_type": "code",
   "execution_count": 1,
   "id": "3c6955ab-bbb6-4f62-9a3e-2d76284a9d6b",
   "metadata": {},
   "outputs": [
    {
     "name": "stdout",
     "output_type": "stream",
     "text": [
      "1\n",
      "<class 'int'>\n",
      "Prathamesh\n",
      "<class 'str'>\n",
      "data_science\n",
      "<class 'str'>\n",
      "98.6\n",
      "<class 'float'>\n",
      "4\n",
      "<class 'int'>\n",
      "9\n",
      "<class 'int'>\n",
      "python\n",
      "<class 'str'>\n",
      "jupyter\n",
      "<class 'str'>\n",
      "23\n",
      "<class 'int'>\n",
      "love\n",
      "<class 'str'>\n"
     ]
    }
   ],
   "source": [
    "l=[1,\"Prathamesh\",\"data_science\",98.6,4,9,\"python\",\"jupyter\",23,\"love\"]\n",
    "for i in l:\n",
    "    print(i)\n",
    "    print (type(i))"
   ]
  },
  {
   "cell_type": "markdown",
   "id": "c8b7c2cc-0543-4585-8ea4-db7cb9469256",
   "metadata": {},
   "source": [
    "Q5.  Using a while loop, verify if the number A is purely divisible by number B and if so then how many\n",
    "times it can be divisible."
   ]
  },
  {
   "cell_type": "code",
   "execution_count": 7,
   "id": "6bac75c2-1cf6-4189-92cc-831c2a2eebad",
   "metadata": {},
   "outputs": [
    {
     "name": "stdout",
     "output_type": "stream",
     "text": [
      "25\n",
      "5\n",
      "Number A is purely divisible by number B and can be divided 2 times.\n"
     ]
    }
   ],
   "source": [
    "A=int(input())\n",
    "B=int(input())\n",
    "count=0\n",
    "while B != 0 and A % B == 0:\n",
    "    count += 1\n",
    "    A = A // B\n",
    "if B == 0:\n",
    "    print(\"Error: Division by zero!\")\n",
    "else:\n",
    "    print(\"Number A is purely divisible by number B and can be divided\", count, \"times.\")\n"
   ]
  },
  {
   "cell_type": "markdown",
   "id": "c7558dc4-fbe9-4195-892c-3c958bbeee2d",
   "metadata": {},
   "source": [
    "Q6. Create a list containing 25 int type data. Using for loop and if-else condition print if the element is\n",
    "divisible by 3 or not."
   ]
  },
  {
   "cell_type": "code",
   "execution_count": 4,
   "id": "018a319a-6af1-4dcd-b9e5-216c94f4dc9a",
   "metadata": {},
   "outputs": [
    {
     "data": {
      "text/plain": [
       "[3, 6, 9, 12, 15, 18, 21, 24]"
      ]
     },
     "execution_count": 4,
     "metadata": {},
     "output_type": "execute_result"
    }
   ],
   "source": [
    "l=[1,2,3,4,5,6,7,8,9,10,11,12,13,14,15,16,17,18,19,20,21,22,23,24,25]\n",
    "l1=[]\n",
    "l2=[]\n",
    "for i in l:\n",
    "    if i%3==0:\n",
    "        l1.append(i)\n",
    "    else:\n",
    "            l2.append(i)\n",
    "l1"
   ]
  },
  {
   "cell_type": "code",
   "execution_count": 12,
   "id": "a9d9c7c4-3b0f-4950-9056-8b812df03bf8",
   "metadata": {},
   "outputs": [
    {
     "data": {
      "text/plain": [
       "[1, 2, 4, 5, 7, 8, 10, 11, 13, 14, 16, 17, 19, 20, 22, 23, 25]"
      ]
     },
     "execution_count": 12,
     "metadata": {},
     "output_type": "execute_result"
    }
   ],
   "source": [
    "l2"
   ]
  },
  {
   "cell_type": "markdown",
   "id": "7a0ab7f0-3620-4bdb-a1f0-b7fd3fbf4a63",
   "metadata": {},
   "source": [
    "Q7. What do you understand about mutable and immutable data types? Give examples for both showing\n",
    "this property."
   ]
  },
  {
   "cell_type": "raw",
   "id": "1f3cecec-ab55-43a9-ba8f-06bef923be27",
   "metadata": {},
   "source": [
    "Mutable -the function whose items are changeable. Ex- list\n",
    "Immutable -the function whose list aren't changeable. Ex- tuple , string"
   ]
  },
  {
   "cell_type": "code",
   "execution_count": 13,
   "id": "0bc2467e-85cf-4df6-9c7b-2369a9ed1764",
   "metadata": {},
   "outputs": [],
   "source": [
    "f=[1,2,3,4]"
   ]
  },
  {
   "cell_type": "code",
   "execution_count": 15,
   "id": "9014d174-a1eb-454f-bb5a-c31d36e698c8",
   "metadata": {},
   "outputs": [
    {
     "data": {
      "text/plain": [
       "[2, 2, 3, 4]"
      ]
     },
     "execution_count": 15,
     "metadata": {},
     "output_type": "execute_result"
    }
   ],
   "source": [
    "f[0]=2\n",
    "f"
   ]
  },
  {
   "cell_type": "raw",
   "id": "ab21a919-fdba-47dd-aaea-039b270098db",
   "metadata": {},
   "source": [
    "above we can see that the list item is changeable"
   ]
  },
  {
   "cell_type": "code",
   "execution_count": 16,
   "id": "905310c2-76b2-4ebb-b5dd-cc513fa88c72",
   "metadata": {},
   "outputs": [],
   "source": [
    "f=(1,2,3,4)"
   ]
  },
  {
   "cell_type": "code",
   "execution_count": 6,
   "id": "e0c34e84-bf09-47f8-8809-472d6c0429cc",
   "metadata": {},
   "outputs": [
    {
     "ename": "NameError",
     "evalue": "name 'f' is not defined",
     "output_type": "error",
     "traceback": [
      "\u001b[1;31m---------------------------------------------------------------------------\u001b[0m",
      "\u001b[1;31mNameError\u001b[0m                                 Traceback (most recent call last)",
      "Cell \u001b[1;32mIn[6], line 1\u001b[0m\n\u001b[1;32m----> 1\u001b[0m f[\u001b[38;5;241m0\u001b[39m]\u001b[38;5;241m=\u001b[39m\u001b[38;5;241m2\u001b[39m\n\u001b[0;32m      2\u001b[0m f\n",
      "\u001b[1;31mNameError\u001b[0m: name 'f' is not defined"
     ]
    }
   ],
   "source": [
    "f[0]=2\n",
    "f"
   ]
  },
  {
   "cell_type": "raw",
   "id": "d2514699-3472-4423-8950-bb01045e3ffa",
   "metadata": {},
   "source": [
    "above we can see that its show error , so thats why tuple is immutable."
   ]
  },
  {
   "cell_type": "code",
   "execution_count": null,
   "id": "fbebe567-7a27-49d6-a45b-34449c9c2c6a",
   "metadata": {},
   "outputs": [],
   "source": []
  }
 ],
 "metadata": {
  "kernelspec": {
   "display_name": "Python 3 (ipykernel)",
   "language": "python",
   "name": "python3"
  },
  "language_info": {
   "codemirror_mode": {
    "name": "ipython",
    "version": 3
   },
   "file_extension": ".py",
   "mimetype": "text/x-python",
   "name": "python",
   "nbconvert_exporter": "python",
   "pygments_lexer": "ipython3",
   "version": "3.11.5"
  }
 },
 "nbformat": 4,
 "nbformat_minor": 5
}
